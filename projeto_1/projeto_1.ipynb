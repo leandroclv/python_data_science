{
 "cells": [
  {
   "cell_type": "code",
   "execution_count": null,
   "id": "c2001b70",
   "metadata": {},
   "outputs": [],
   "source": [
    "#Lógica de programação para a solução do desafio\n",
    "#Passo 0 - Entender o desafio que você quer resolver\n",
    "#Passo 1 - Importar a base de dados\n",
    "#Passo 2 - Calcular o produto mais vendido (em quantidade)\n",
    "#Passo 3 - Calcular o produto mais vendido (em feturamento)\n",
    "#Passo 4 - Calcular a loja/estado que mais vendeu (em faturamento)\n",
    "#Passo 5 - Calcular o ticket médio por loja/estado\n",
    "#Passo 6 - Criar um gráfico/dashboard da loja/estado que mais vendeu (em faturamento)\n",
    "#Passo 7 - Enviar um e-mail para o setor  responsável"
   ]
  },
  {
   "cell_type": "code",
   "execution_count": 2,
   "id": "2ac0bfc3",
   "metadata": {},
   "outputs": [],
   "source": [
    "import pandas as pd"
   ]
  },
  {
   "cell_type": "code",
   "execution_count": null,
   "id": "bfd1b341",
   "metadata": {},
   "outputs": [],
   "source": [
    "tabelas_vendas = pd.read_excel('Vendas_Base_de_Dados.xlsx')"
   ]
  }
 ],
 "metadata": {
  "kernelspec": {
   "display_name": "base",
   "language": "python",
   "name": "python3"
  },
  "language_info": {
   "codemirror_mode": {
    "name": "ipython",
    "version": 3
   },
   "file_extension": ".py",
   "mimetype": "text/x-python",
   "name": "python",
   "nbconvert_exporter": "python",
   "pygments_lexer": "ipython3",
   "version": "3.6.5"
  }
 },
 "nbformat": 4,
 "nbformat_minor": 5
}
